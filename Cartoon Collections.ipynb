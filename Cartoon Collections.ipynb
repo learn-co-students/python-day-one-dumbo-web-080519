{
 "metadata": {
  "name": "",
  "signature": "sha256:1432c4bb8a4e9172d0ba0310ff480f24c48114c0780d18a4bef67556171809f2"
 },
 "nbformat": 3,
 "nbformat_minor": 0,
 "worksheets": [
  {
   "cells": [
    {
     "cell_type": "markdown",
     "metadata": {},
     "source": [
      "1. Convert this list of dwarves into a roll call sheet. This is a roll call sheet for HUMANS so please start counting at 1. You are going to have some trouble getting the index of each item using our normal `for` loop. [Python has a way around this](http://stackoverflow.com/questions/522563/accessing-the-index-in-python-for-loops). For example given the following array:\n",
      "\n",
      "  ```\n",
      "  [\"Doc\",\"Dopey\",\"Bashful\"]\n",
      "  ```\n",
      "\n",
      "  return an `str` that looks like this:\n",
      "\n",
      "  ```\n",
      "  1. Doc | 2. Dopey | 3. Bashful\n",
      "  ```"
     ]
    },
    {
     "cell_type": "code",
     "collapsed": false,
     "input": [
      "dwarves = [\"Doc\",\"Dopey\",\"Bashful\"]"
     ],
     "language": "python",
     "metadata": {},
     "outputs": []
    },
    {
     "cell_type": "markdown",
     "metadata": {},
     "source": [
      "  2. Summon Captain Planet! Given a `list` of forces. These forces a bit lackluster...let's give them some hart and make them all caps and an exclamation point after to show we really mean it! Create another `list` with a capitalized and exclamation point after. So for example the following `list`:\n",
      "\n",
      "  ```\n",
      "  [\"earth\",\"wind\"]\n",
      "  ```\n",
      "\n",
      "  would turn into:\n",
      "\n",
      "  ```\n",
      "  [\"EARTH!\", \"WIND!\"]\n",
      "  ```"
     ]
    },
    {
     "cell_type": "code",
     "collapsed": false,
     "input": [
      "forces = [\"earth\",\"wind\"]"
     ],
     "language": "python",
     "metadata": {},
     "outputs": []
    },
    {
     "cell_type": "markdown",
     "metadata": {},
     "source": [
      "The planeteer calls are supposed to be short so let's find out if any of our calls have more than 4 characters. This method takes in a list of planteerCalls and returns the list of planeteer calls that have more then 4 characters. So for example the following `list`:\n",
      "\n",
      "  ```\n",
      "  [\"earth\",\"wind\"]\n",
      "  ```\n",
      "\n",
      "  would return:\n",
      "\n",
      "  ```\n",
      "  [\"earth\"]\n",
      "  ```"
     ]
    },
    {
     "cell_type": "code",
     "collapsed": false,
     "input": [],
     "language": "python",
     "metadata": {},
     "outputs": []
    },
    {
     "cell_type": "markdown",
     "metadata": {},
     "source": [
      "Look through the `list` of `string`s and find the first string that matches one of the following cheese strings (case-insensitive): `\"cheddar\", \"gouda\", or \"cambert\"`. It should then return the `string` of the resulting search. If it doesn't find anything, return an empty list.\n",
      "\n",
      " "
     ]
    },
    {
     "cell_type": "code",
     "collapsed": false,
     "input": [
      "possible_cheese = [\"cheddar\",\"pickles\",\"Cambert\"]"
     ],
     "language": "python",
     "metadata": {},
     "outputs": []
    },
    {
     "cell_type": "markdown",
     "metadata": {},
     "source": [
      "Lets help someone keep track of their money. Sadly...people keep their receipts in a weird way. They keep in them in an `list` that looks like this:\n",
      "\n",
      "  ```\n",
      "  [\"$$\", \"$\", \"$$$\"]\n",
      "  ```\n",
      "\n",
      "So this method takes a list like that in, and should return another list converted to monetary values. So the previous `list` would turn into this:\n",
      "\n",
      "  ```\n",
      "  [2,1,3]\n",
      "  ```"
     ]
    },
    {
     "cell_type": "code",
     "collapsed": false,
     "input": [
      "receipt = [\"$$\", \"$\", \"$$$\"]"
     ],
     "language": "python",
     "metadata": {},
     "outputs": []
    }
   ],
   "metadata": {}
  }
 ]
}