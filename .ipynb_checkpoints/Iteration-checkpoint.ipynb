{
 "metadata": {
  "name": "",
  "signature": "sha256:6ae05e398ad2cf7a1d1562da82b5f3c76d830ca9eedf6789dc9cf1633edbf087"
 },
 "nbformat": 3,
 "nbformat_minor": 0,
 "worksheets": [
  {
   "cells": [
    {
     "cell_type": "code",
     "collapsed": false,
     "input": [
      "farmer_tasks = [\"Milk the cow\", \"Churn the butter\", \"Drive the tractor\", \"Peel potatoes\", \"Plant the corn\"]"
     ],
     "language": "python",
     "metadata": {},
     "outputs": [],
     "prompt_number": 1
    },
    {
     "cell_type": "markdown",
     "metadata": {},
     "source": [
      "Use a for in loop to print out the string `I'm so busy! I need to <task>` for each of the tasks in the `farmer_tasks` list."
     ]
    },
    {
     "cell_type": "code",
     "collapsed": false,
     "input": [
      "for task in farmer_tasks:\n",
      "    print \"I'm so busy! I need to {}\".format(task)"
     ],
     "language": "python",
     "metadata": {},
     "outputs": [
      {
       "output_type": "stream",
       "stream": "stdout",
       "text": [
        "I'm so busy! I need to Milk the cow\n",
        "I'm so busy! I need to Churn the butter\n",
        "I'm so busy! I need to Drive the tractor\n",
        "I'm so busy! I need to Peel potatoes\n",
        "I'm so busy! I need to Plant the corn\n"
       ]
      }
     ],
     "prompt_number": 2
    },
    {
     "cell_type": "code",
     "collapsed": false,
     "input": [
      "some_numbers =[2, 52, 19, 46, 1000]"
     ],
     "language": "python",
     "metadata": {},
     "outputs": [],
     "prompt_number": 3
    },
    {
     "cell_type": "markdown",
     "metadata": {},
     "source": [
      "Use a for in loop to add ten to each number and then divide it by two and `print` this new number to the screen. "
     ]
    },
    {
     "cell_type": "code",
     "collapsed": false,
     "input": [],
     "language": "python",
     "metadata": {},
     "outputs": []
    },
    {
     "cell_type": "code",
     "collapsed": false,
     "input": [
      "presidents = [\"George Washington\", \"John Adams\", \"Thomas Jefferson\", \"James Madison\", \"James Monroe\", \"John Quincy Adams\"]"
     ],
     "language": "python",
     "metadata": {},
     "outputs": [],
     "prompt_number": 5
    },
    {
     "cell_type": "markdown",
     "metadata": {},
     "source": [
      "Use a for in loop to print out a string with the name Capitalized for each of the presidents in the `presidents` list."
     ]
    },
    {
     "cell_type": "code",
     "collapsed": false,
     "input": [],
     "language": "python",
     "metadata": {},
     "outputs": []
    },
    {
     "cell_type": "markdown",
     "metadata": {},
     "source": [
      "Create a list with the numbers 10 down to 0. Using for in and a [range](http://www.pythoncentral.io/pythons-range-function-explained/), for every number `print` the string \"___ bottles of milk on the wall\", filling in the blank with the number in your array."
     ]
    },
    {
     "cell_type": "code",
     "collapsed": false,
     "input": [],
     "language": "python",
     "metadata": {},
     "outputs": []
    }
   ],
   "metadata": {}
  }
 ]
}