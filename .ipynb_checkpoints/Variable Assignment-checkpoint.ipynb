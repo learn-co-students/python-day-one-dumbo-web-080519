{
 "metadata": {
  "name": "",
  "signature": "sha256:df060c63983d4bb66292e014114de2ef99edc0f98e45c6c00a18bae88d5984f8"
 },
 "nbformat": 3,
 "nbformat_minor": 0,
 "worksheets": [
  {
   "cells": [
    {
     "cell_type": "markdown",
     "metadata": {},
     "source": [
      "###What is a Variable?\n",
      "We use variables in programming to store pieces of data. Variables can store any type of data (strings, integers, floats, etc). When we name a variable, we use all lowercase letters. For example:\n",
      "```ruby\n",
      "dog = \"Fido\"\n",
      "```\n"
     ]
    },
    {
     "cell_type": "code",
     "collapsed": false,
     "input": [
      "dog = \"Fido\""
     ],
     "language": "python",
     "metadata": {},
     "outputs": [],
     "prompt_number": 2
    },
    {
     "cell_type": "markdown",
     "metadata": {},
     "source": [
      "In this example, all we've done is defined a variable named `dog` and set it equal to the string `Fido`. Now, any time we tell our program to `puts dog`, it will print out `Fido`."
     ]
    },
    {
     "cell_type": "code",
     "collapsed": false,
     "input": [
      "print dog\n",
      "print dog\n",
      "print dog"
     ],
     "language": "python",
     "metadata": {},
     "outputs": [
      {
       "output_type": "stream",
       "stream": "stdout",
       "text": [
        "Fido\n",
        "Fido\n",
        "Fido\n"
       ]
      }
     ],
     "prompt_number": 3
    },
    {
     "cell_type": "markdown",
     "metadata": {},
     "source": [
      "In this example, we should see `Fido` printed out three times.\n",
      "\n",
      "What would happen if we did the following (hit run cell or Shift+Enter to run the code):"
     ]
    },
    {
     "cell_type": "code",
     "collapsed": false,
     "input": [
      "name = \"Fido\"\n",
      "name = \"Bessie\"\n",
      "\n",
      "print name"
     ],
     "language": "python",
     "metadata": {},
     "outputs": []
    },
    {
     "cell_type": "markdown",
     "metadata": {},
     "source": [
      "On the first line, we assigned the variable `name` to store `Fido`. On the next line, we reassigned the value of the variable `name` to store `Bessie`. Each variable can only store one value, so all we did was overwrite the value of the `name` variable. When we `print name` on the last line, we will see `Bessie` printed out.\n",
      "\n",
      "What if we want to have more than one word in our variable? Like:"
     ]
    },
    {
     "cell_type": "code",
     "collapsed": false,
     "input": [
      "best friend = \"Steph\"\n",
      "\n",
      "print best friend"
     ],
     "language": "python",
     "metadata": {},
     "outputs": [
      {
       "ename": "SyntaxError",
       "evalue": "invalid syntax (<ipython-input-5-054e52088c18>, line 1)",
       "output_type": "pyerr",
       "traceback": [
        "\u001b[0;36m  File \u001b[0;32m\"<ipython-input-5-054e52088c18>\"\u001b[0;36m, line \u001b[0;32m1\u001b[0m\n\u001b[0;31m    best friend = \"Steph\"\u001b[0m\n\u001b[0m              ^\u001b[0m\n\u001b[0;31mSyntaxError\u001b[0m\u001b[0;31m:\u001b[0m invalid syntax\n"
       ]
      }
     ],
     "prompt_number": 5
    },
    {
     "cell_type": "markdown",
     "metadata": {},
     "source": [
      "Python gives us an error! `SyntaxError: invalid syntax`. Python doesn't know what `best` is because of the space between the words `best` and `friend`. Python doesn't recognize `best` as a key word (like print) or as a data type, so it throws an error. The space confuses the computer. Instead, replace spaces with underscores:"
     ]
    },
    {
     "cell_type": "code",
     "collapsed": false,
     "input": [
      "best_friend = \"Steph\"\n",
      "\n",
      "print best_friend"
     ],
     "language": "python",
     "metadata": {},
     "outputs": []
    },
    {
     "cell_type": "markdown",
     "metadata": {},
     "source": [
      "###Let's practice!\n",
      "What will be printed to the screen after running each of these? Talk to a partner and decide on an answer before running your code.\n",
      "\n",
      "####1:"
     ]
    },
    {
     "cell_type": "code",
     "collapsed": false,
     "input": [
      "a = 25\n",
      "b = 36\n",
      "\n",
      "print a * b"
     ],
     "language": "python",
     "metadata": {},
     "outputs": []
    },
    {
     "cell_type": "markdown",
     "metadata": {},
     "source": [
      "####2:"
     ]
    },
    {
     "cell_type": "code",
     "collapsed": false,
     "input": [
      "dog = \"Ralph\"\n",
      "cat = \"Whiskers\"\n",
      "\n",
      "print dog + cat"
     ],
     "language": "python",
     "metadata": {},
     "outputs": []
    },
    {
     "cell_type": "markdown",
     "metadata": {},
     "source": [
      "####3:"
     ]
    },
    {
     "cell_type": "code",
     "collapsed": false,
     "input": [
      "band = \"The Beatles\"\n",
      "\n",
      "print \"My favorite band is \" + band "
     ],
     "language": "python",
     "metadata": {},
     "outputs": []
    },
    {
     "cell_type": "markdown",
     "metadata": {},
     "source": [
      "####4: (fix the output so it looks right)"
     ]
    },
    {
     "cell_type": "code",
     "collapsed": false,
     "input": [
      "first = \"BARACK\"\n",
      "last = \"OBAMA\"\n",
      "age = 53\n",
      "\n",
      "print \"The president of the US is \" + first.capitalize() + last.capitalize() + \"and he is \" + str(age) + \"years old.\""
     ],
     "language": "python",
     "metadata": {},
     "outputs": []
    },
    {
     "cell_type": "markdown",
     "metadata": {},
     "source": [
      "####5:"
     ]
    },
    {
     "cell_type": "code",
     "collapsed": false,
     "input": [
      "artist_first = \"NiKKi\"\n",
      "artist_last = \"MiNaj\"\n",
      "\n",
      "print \"When I listen to \" + artist_first.upper() + \" \" + artist_last.lower() + \" I feel like my brain is melting.\""
     ],
     "language": "python",
     "metadata": {},
     "outputs": []
    },
    {
     "cell_type": "markdown",
     "metadata": {},
     "source": [
      "####6:"
     ]
    },
    {
     "cell_type": "code",
     "collapsed": false,
     "input": [
      "name = \"Bill\"\n",
      "age = 26\n",
      "location = \"New York\"\n",
      "\n",
      "print \"Hi. I'm \" + name.capitalize() + \". I'm from \" + location.swapcase() + \"and in ten years I'm going to be \" + str((age+10))"
     ],
     "language": "python",
     "metadata": {},
     "outputs": []
    },
    {
     "cell_type": "markdown",
     "metadata": {},
     "source": [
      "####7:\n",
      "Assign your first name to a variable called `first` and your last name to a variable called `last`. Assign the number of siblings you have to a variable called `siblings`. Output a string using these variables that says your full name and the number of siblings that you have in the form of a sentence."
     ]
    },
    {
     "cell_type": "code",
     "collapsed": false,
     "input": [],
     "language": "python",
     "metadata": {},
     "outputs": []
    },
    {
     "cell_type": "markdown",
     "metadata": {},
     "source": [
      "####8:\n",
      "Set `x` equal to 34679, `y` equal to 566 and `z` equal to 47. Output the product of these three numbers. Then output the sum of the three numbers. Assign each of these to a new variable and then find the difference between the product and the sum."
     ]
    },
    {
     "cell_type": "code",
     "collapsed": false,
     "input": [],
     "language": "python",
     "metadata": {},
     "outputs": []
    }
   ],
   "metadata": {}
  }
 ]
}