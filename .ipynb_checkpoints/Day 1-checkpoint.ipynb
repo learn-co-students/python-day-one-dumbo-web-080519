{
 "metadata": {
  "name": "",
  "signature": "sha256:e37d9182411239dad38252993e6c0425b5798f033ec7eacb7ace54d38931d06e"
 },
 "nbformat": 3,
 "nbformat_minor": 0,
 "worksheets": [
  {
   "cells": [
    {
     "cell_type": "markdown",
     "metadata": {},
     "source": [
      "# Day 1 - Saturday, February 21, 2015 \n",
      "\n",
      "Time       | Plan     |\n",
      "----------------|-------\n",
      "10:00 - 10:30          | Environment Setup\n",
      "10:30 - 10:45          | Introductions\n",
      "10:45 - 12:00         | Variables, Data Types, Behaviors of Data\n",
      "1:00-2:30           | Labs (Var assignment, strings, arrays)\n",
      "2:30 - 3:00         | Review Arrays and Strings Lab\n",
      "3:00-4:00           | Looping and conditionals \n",
      "4:00-5:00           | Labs (Iteration Lab)"
     ]
    },
    {
     "cell_type": "code",
     "collapsed": false,
     "input": [],
     "language": "python",
     "metadata": {},
     "outputs": []
    }
   ],
   "metadata": {}
  }
 ]
}