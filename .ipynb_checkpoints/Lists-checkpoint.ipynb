{
 "metadata": {
  "name": "",
  "signature": "sha256:a0288615257cf7502137274a6e4c4e6adf7a56882ba6524d5232dee4eaecdd77"
 },
 "nbformat": 3,
 "nbformat_minor": 0,
 "worksheets": []
}