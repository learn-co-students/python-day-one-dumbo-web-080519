{
 "metadata": {
  "name": "",
  "signature": "sha256:cf23a5f3ceb4729d0d414b0354eab7aa114ab6ea619b2b5b80c9ecf7de5e26ed"
 },
 "nbformat": 3,
 "nbformat_minor": 0,
 "worksheets": [
  {
   "cells": [
    {
     "cell_type": "markdown",
     "metadata": {},
     "source": [
      "# Day 2 - Sunday, February 22, 2015 \n",
      "\n",
      "Time       | Plan     |\n",
      "----------------|-------\n",
      "10:00 - 11:00          | Finish up Badges\n",
      "11:00 - 12:00          | Review Badges, Methods\n",
      "1:00 - 2:30         | Labs Deli Counter, Cartoon Collections\n",
      "2:30-3:30           | Review Deli Counter, Intro to Associative Arrays\n",
      "3:30 - 4:30         | Basic Associative Lists lab\n",
      "4:30-5:00           | Review Lab, assign hw"
     ]
    },
    {
     "cell_type": "code",
     "collapsed": false,
     "input": [],
     "language": "python",
     "metadata": {},
     "outputs": []
    }
   ],
   "metadata": {}
  }
 ]
}