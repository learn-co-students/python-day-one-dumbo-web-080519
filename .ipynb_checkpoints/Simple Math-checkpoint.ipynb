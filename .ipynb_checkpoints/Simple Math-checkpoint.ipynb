{
 "metadata": {
  "name": "",
  "signature": "sha256:85d3d72e01faad484e050a6d214a9f5956c96d3a24bf36a95b4740aa4c5a8772"
 },
 "nbformat": 3,
 "nbformat_minor": 0,
 "worksheets": [
  {
   "cells": [
    {
     "cell_type": "markdown",
     "metadata": {},
     "source": [
      "# Math\n",
      "\n",
      "## Introduction\n",
      "\n",
      "Programs have basic arithmetic built-in. The `+`, `*`, and `/` methods are part of Ruby.\n",
      "\n",
      "Python can perform any operation that a simple calculator can. For Example:"
     ]
    },
    {
     "cell_type": "code",
     "collapsed": false,
     "input": [
      "1 + 1"
     ],
     "language": "python",
     "metadata": {},
     "outputs": []
    },
    {
     "cell_type": "code",
     "collapsed": false,
     "input": [
      "1 * 3"
     ],
     "language": "python",
     "metadata": {},
     "outputs": []
    },
    {
     "cell_type": "code",
     "collapsed": false,
     "input": [
      "9 ** 2"
     ],
     "language": "python",
     "metadata": {},
     "outputs": []
    },
    {
     "cell_type": "markdown",
     "metadata": {},
     "source": [
      "## The Math Module\n",
      "\n",
      "While Python can do a lot of the basic functions of a calculator, we want the fancier calculator functions. We need a proper scientific calculator. Due to size and performance restraints, Python doesn't include these functions by default. Thankfully it is wonderfully simple to include these more complex math functions by importing the `math` Python module. Modules are simply bundles of code written by somebody else that you can use by running `import`. Let's import the `math` module: "
     ]
    },
    {
     "cell_type": "code",
     "collapsed": false,
     "input": [
      "import math"
     ],
     "language": "python",
     "metadata": {},
     "outputs": [],
     "prompt_number": 4
    },
    {
     "cell_type": "markdown",
     "metadata": {},
     "source": [
      "Let's first show you the method that finds the square root of a number. It's called `sqrt()`, but is included only in the `math` module so we have to call it like this:"
     ]
    },
    {
     "cell_type": "code",
     "collapsed": false,
     "input": [
      "math.sqrt(81)"
     ],
     "language": "python",
     "metadata": {},
     "outputs": [
      {
       "metadata": {},
       "output_type": "pyout",
       "prompt_number": 5,
       "text": [
        "9.0"
       ]
      }
     ],
     "prompt_number": 5
    },
    {
     "cell_type": "markdown",
     "metadata": {},
     "source": [
      "There are a bunch more functions. [Check them out](https://docs.python.org/2/library/math.html)"
     ]
    },
    {
     "cell_type": "markdown",
     "metadata": {},
     "source": [
      "## Order of Operations\n",
      "\n",
      "Enclosing an expression in parentheses `()` defines an order of operations, like you would [expect](http://en.wikipedia.org/wiki/Order_of_operations)."
     ]
    },
    {
     "cell_type": "code",
     "collapsed": false,
     "input": [
      "98 + 59/13 * 8 * -5"
     ],
     "language": "python",
     "metadata": {},
     "outputs": [
      {
       "metadata": {},
       "output_type": "pyout",
       "prompt_number": 10,
       "text": [
        "-62"
       ]
      }
     ],
     "prompt_number": 10
    },
    {
     "cell_type": "code",
     "collapsed": false,
     "input": [
      "98 + (59/(13*8)) * -5"
     ],
     "language": "python",
     "metadata": {},
     "outputs": [
      {
       "metadata": {},
       "output_type": "pyout",
       "prompt_number": 11,
       "text": [
        "98"
       ]
      }
     ],
     "prompt_number": 11
    },
    {
     "cell_type": "markdown",
     "metadata": {},
     "source": [
      "## Division and Intro to Floats\n",
      "\n",
      "Type `9 / 2`. You would expect the result to be 4.5, but it's actually 4. This is because of the type of number you are using. In Python, and most programming languages, numbers can be integers (whole numbers), or floats(decimal numbers). When you divide  integers, they return integers without rounding. The decimal is just removed. If you type 9.0, you're creating a float, so  `9.0 / 2.0 = 4.5`. Numbers with decimals are called floats and when you divide floats a float is returned. If you divide a float and an integer, a float will be returned, so `9.0/2 = 4.5`."
     ]
    },
    {
     "cell_type": "code",
     "collapsed": false,
     "input": [
      "9/2"
     ],
     "language": "python",
     "metadata": {},
     "outputs": []
    },
    {
     "cell_type": "code",
     "collapsed": false,
     "input": [
      "9.0/2.0"
     ],
     "language": "python",
     "metadata": {},
     "outputs": []
    },
    {
     "cell_type": "code",
     "collapsed": false,
     "input": [
      "9.0/2"
     ],
     "language": "python",
     "metadata": {},
     "outputs": []
    },
    {
     "cell_type": "markdown",
     "metadata": {},
     "source": [
      "## Modulo operator\n",
      "\n",
      "There is another operator that is really useful in programming. It's the modulo, and is represented with the percent sign `%`. The modulo operator gives you the remainder of a number divided by another number. So `5 % 3 = 2`."
     ]
    },
    {
     "cell_type": "code",
     "collapsed": false,
     "input": [
      "5 % 3"
     ],
     "language": "python",
     "metadata": {},
     "outputs": []
    }
   ],
   "metadata": {}
  }
 ]
}